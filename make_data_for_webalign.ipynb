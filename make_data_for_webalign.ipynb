{
 "cells": [
  {
   "cell_type": "code",
   "execution_count": 1,
   "metadata": {
    "ExecuteTime": {
     "end_time": "2020-07-27T17:38:46.489472Z",
     "start_time": "2020-07-27T17:38:45.882058Z"
    }
   },
   "outputs": [],
   "source": [
    "import warnings\n",
    "import re\n",
    "import os\n",
    "import pandas as pd\n",
    "import pickle\n",
    "\n",
    "import logging\n",
    "import librosa"
   ]
  },
  {
   "cell_type": "code",
   "execution_count": null,
   "metadata": {},
   "outputs": [],
   "source": []
  },
  {
   "cell_type": "markdown",
   "metadata": {},
   "source": [
    "## Read metadata"
   ]
  },
  {
   "cell_type": "code",
   "execution_count": 2,
   "metadata": {
    "ExecuteTime": {
     "end_time": "2020-07-27T17:38:47.477498Z",
     "start_time": "2020-07-27T17:38:47.475427Z"
    }
   },
   "outputs": [],
   "source": [
    "# NOTE: write full path with '/' in the end\n",
    "\n",
    "data_path = \"PATH OF DATA\""
   ]
  },
  {
   "cell_type": "code",
   "execution_count": 3,
   "metadata": {
    "ExecuteTime": {
     "end_time": "2020-07-27T17:38:47.978607Z",
     "start_time": "2020-07-27T17:38:47.962612Z"
    }
   },
   "outputs": [],
   "source": [
    "import csv\n",
    "metadata = pd.read_csv(\n",
    "            os.path.join(data_path,'metadata.csv'),\n",
    "            sep=\"|\",\n",
    "            encoding=\"utf-8\",\n",
    "            header=None,\n",
    "            quoting=csv.QUOTE_NONE,\n",
    "            names=[\"fname\", \"raw_text\", \"normalized_text\"])\n"
   ]
  },
  {
   "cell_type": "code",
   "execution_count": 4,
   "metadata": {
    "ExecuteTime": {
     "end_time": "2020-07-27T17:38:48.999326Z",
     "start_time": "2020-07-27T17:38:48.996950Z"
    }
   },
   "outputs": [],
   "source": [
    "import os\n",
    "\n",
    "if not os.path.exists(data_path + 'txt'):\n",
    "    os.mkdir(os.path.join(data_path,'txt'))\n"
   ]
  },
  {
   "cell_type": "markdown",
   "metadata": {},
   "source": [
    "### Make text files"
   ]
  },
  {
   "cell_type": "code",
   "execution_count": 5,
   "metadata": {
    "ExecuteTime": {
     "end_time": "2020-07-27T17:38:51.417589Z",
     "start_time": "2020-07-27T17:38:51.302595Z"
    }
   },
   "outputs": [],
   "source": [
    "for fname,text in zip(metadata['fname'].tolist(),metadata['raw_text'].tolist()):\n",
    "    with open(os.path.join(data_path,'txt',fname + '.txt'),'w') as f:\n",
    "        f.write(text)\n",
    "    f.close()    "
   ]
  },
  {
   "cell_type": "code",
   "execution_count": null,
   "metadata": {},
   "outputs": [],
   "source": []
  },
  {
   "cell_type": "code",
   "execution_count": 6,
   "metadata": {
    "ExecuteTime": {
     "end_time": "2020-07-27T17:38:52.477379Z",
     "start_time": "2020-07-27T17:38:52.469385Z"
    }
   },
   "outputs": [],
   "source": [
    "temp1 = [x.split('/')[-1].split('.')[0] for x in os.listdir(data_path + '/txt')]\n",
    "temp2 = [x.split('/')[-1].split('.')[0] for x in os.listdir(data_path + '/wavs')]"
   ]
  },
  {
   "cell_type": "code",
   "execution_count": 7,
   "metadata": {
    "ExecuteTime": {
     "end_time": "2020-07-27T17:38:53.240527Z",
     "start_time": "2020-07-27T17:38:53.234229Z"
    }
   },
   "outputs": [
    {
     "data": {
      "text/plain": [
       "set()"
      ]
     },
     "execution_count": 7,
     "metadata": {},
     "output_type": "execute_result"
    }
   ],
   "source": [
    "set(temp2).symmetric_difference(set(temp1))"
   ]
  },
  {
   "cell_type": "code",
   "execution_count": null,
   "metadata": {},
   "outputs": [],
   "source": [
    "# The intersection should be empty set()"
   ]
  },
  {
   "cell_type": "code",
   "execution_count": 13,
   "metadata": {
    "ExecuteTime": {
     "end_time": "2020-07-27T20:28:39.503952Z",
     "start_time": "2020-07-27T20:28:39.501891Z"
    }
   },
   "outputs": [],
   "source": [
    "### DATA MADE !!"
   ]
  },
  {
   "cell_type": "code",
   "execution_count": null,
   "metadata": {},
   "outputs": [],
   "source": []
  }
 ],
 "metadata": {
  "kernelspec": {
   "display_name": "Python [conda env:faiss]",
   "language": "python",
   "name": "conda-env-faiss-py"
  },
  "language_info": {
   "codemirror_mode": {
    "name": "ipython",
    "version": 3
   },
   "file_extension": ".py",
   "mimetype": "text/x-python",
   "name": "python",
   "nbconvert_exporter": "python",
   "pygments_lexer": "ipython3",
   "version": "3.6.8"
  },
  "toc": {
   "base_numbering": 1,
   "nav_menu": {},
   "number_sections": true,
   "sideBar": true,
   "skip_h1_title": false,
   "title_cell": "Table of Contents",
   "title_sidebar": "Contents",
   "toc_cell": false,
   "toc_position": {},
   "toc_section_display": true,
   "toc_window_display": false
  }
 },
 "nbformat": 4,
 "nbformat_minor": 2
}
